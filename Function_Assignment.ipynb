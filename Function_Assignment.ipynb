{
  "nbformat": 4,
  "nbformat_minor": 0,
  "metadata": {
    "colab": {
      "provenance": []
    },
    "kernelspec": {
      "name": "python3",
      "display_name": "Python 3"
    },
    "language_info": {
      "name": "python"
    }
  },
  "cells": [
    {
      "cell_type": "markdown",
      "source": [
        "## Theory Questions:\n"
      ],
      "metadata": {
        "id": "8x5Du3AiaD1k"
      }
    },
    {
      "cell_type": "markdown",
      "source": [
        "Q1. What is the difference between a function and a method in Python?\n",
        "- Answer - A function is a block of reusable code that is not tied to any object or class. It is defined using the def keyword, and you can call it anywhere in your program."
      ],
      "metadata": {
        "id": "HndOpoJnRMJ-"
      }
    },
    {
      "cell_type": "code",
      "source": [
        "def greet(name):  #functon exmple\n",
        "    return f\"Hello, {name}!\"\n",
        "\n",
        "print(greet(\"Alice\"))  # Output: Hello, Alice!"
      ],
      "metadata": {
        "colab": {
          "base_uri": "https://localhost:8080/"
        },
        "id": "pr_PnnCPQ7De",
        "outputId": "a3029e90-c3aa-41d7-bc1f-8cabf4530850"
      },
      "execution_count": 1,
      "outputs": [
        {
          "output_type": "stream",
          "name": "stdout",
          "text": [
            "Hello, Alice!\n"
          ]
        }
      ]
    },
    {
      "cell_type": "markdown",
      "source": [
        "A method is a function that is associated with an object or class. Methods are defined within a class and are called on instances of that class or the class itself (in the case of class methods). The main difference is that methods implicitly take the object as the first argument, typically called self."
      ],
      "metadata": {
        "id": "fh9drR83RRMz"
      }
    },
    {
      "cell_type": "code",
      "source": [
        "class Person:  #method example\n",
        "    def __init__(self, name):\n",
        "        self.name = name\n",
        "\n",
        "    def greet(self):\n",
        "        return f\"Hello, {self.name}!\"\n",
        "\n",
        "person = Person(\"Alice\")\n",
        "print(person.greet())  # Output: Hello, Alice!"
      ],
      "metadata": {
        "colab": {
          "base_uri": "https://localhost:8080/"
        },
        "id": "42AB_yW6RZnK",
        "outputId": "b5832141-b89a-4bec-842c-e1a86071f57a"
      },
      "execution_count": 2,
      "outputs": [
        {
          "output_type": "stream",
          "name": "stdout",
          "text": [
            "Hello, Alice!\n"
          ]
        }
      ]
    },
    {
      "cell_type": "markdown",
      "source": [
        "Q2.  Explain the concept of function arguments and parameters in Python\n",
        "- Answer: Parameters are the variables that are defined in the function signature. They act as placeholders for the values (arguments) that will be passed into the function when it is called."
      ],
      "metadata": {
        "id": "LxMwWbtRRv2z"
      }
    },
    {
      "cell_type": "code",
      "source": [
        "def add(a, b):  # a and b are parameters\n",
        "    return a + b\n",
        "\n",
        "result = add(3, 4)  # The arguments 3 and 4 are passed to the parameters a and b\n",
        "print(result)  # Output: 7\n",
        "# Here, a and b are parameters of the add function. When you call add(3, 4), the values 3 and 4 are the arguments passed to the function."
      ],
      "metadata": {
        "colab": {
          "base_uri": "https://localhost:8080/"
        },
        "id": "T-ovzJlsR3pu",
        "outputId": "f5733bfd-3002-493e-ddd5-a99ceded3505"
      },
      "execution_count": 3,
      "outputs": [
        {
          "output_type": "stream",
          "name": "stdout",
          "text": [
            "7\n"
          ]
        }
      ]
    },
    {
      "cell_type": "markdown",
      "source": [
        "Arguments:\n",
        "Arguments are the actual values or data you pass to a function when calling it. They correspond to the parameters defined in the function.\n",
        "\n",
        "There are different types of arguments you can pass:\n",
        "\n",
        "a. Positional Arguments:\n",
        "These are the most common type of arguments. The values are assigned to the parameters in the order they appear in the function call.\n",
        "b. Keyword Arguments:\n",
        "You can pass arguments by specifying the parameter name and its value. This allows you to pass them in any order.\n",
        "c. Default Arguments:\n",
        "You can assign default values to parameters. If the caller doesn't provide a value, the default is used."
      ],
      "metadata": {
        "id": "NBWv7dUkSMe9"
      }
    },
    {
      "cell_type": "code",
      "source": [
        "def greet(name, age): #positonal arguments\n",
        "    print(f\"Hello, my name is {name} and I am {age} years old.\")\n",
        "\n",
        "greet(\"Alice\", 30)  # \"Alice\" is passed to 'name' and 30 is passed to 'age'\n"
      ],
      "metadata": {
        "colab": {
          "base_uri": "https://localhost:8080/"
        },
        "id": "E6XRjViHScpt",
        "outputId": "4afe5883-185e-4047-a6ff-427fe5ffa63c"
      },
      "execution_count": 4,
      "outputs": [
        {
          "output_type": "stream",
          "name": "stdout",
          "text": [
            "Hello, my name is Alice and I am 30 years old.\n"
          ]
        }
      ]
    },
    {
      "cell_type": "code",
      "source": [
        "def greet(name, age): #keyword argument\n",
        "    print(f\"Hello, my name is {name} and I am {age} years old.\")\n",
        "\n",
        "greet(age=30, name=\"Alice\")  # Passing arguments in any order\n"
      ],
      "metadata": {
        "colab": {
          "base_uri": "https://localhost:8080/"
        },
        "id": "B_VZvdpvSmDa",
        "outputId": "6e6aa573-6aae-4580-c977-c2dd5569ac0e"
      },
      "execution_count": 5,
      "outputs": [
        {
          "output_type": "stream",
          "name": "stdout",
          "text": [
            "Hello, my name is Alice and I am 30 years old.\n"
          ]
        }
      ]
    },
    {
      "cell_type": "code",
      "source": [
        "def greet(name, age=25):  # age has a default value of 25 # defalut argument\n",
        "    print(f\"Hello, my name is {name} and I am {age} years old.\")\n",
        "\n",
        "greet(\"Bob\")  # age uses the default value 25\n",
        "greet(\"Alice\", 30)  # age is set to 30 by the caller\n"
      ],
      "metadata": {
        "colab": {
          "base_uri": "https://localhost:8080/"
        },
        "id": "gpK-wLSISqvk",
        "outputId": "f031502e-d030-4966-b01d-2bb518585526"
      },
      "execution_count": 6,
      "outputs": [
        {
          "output_type": "stream",
          "name": "stdout",
          "text": [
            "Hello, my name is Bob and I am 25 years old.\n",
            "Hello, my name is Alice and I am 30 years old.\n"
          ]
        }
      ]
    },
    {
      "cell_type": "markdown",
      "source": [
        "Q3. What are the different ways to define and call a function in Python?\n",
        "- A regular function is defined using the def keyword, followed by a function name, parameters, and a body. The function is called by its name, passing appropriate arguments.\n"
      ],
      "metadata": {
        "id": "wmOhUPjdSzSl"
      }
    },
    {
      "cell_type": "code",
      "source": [
        "def greet(name):\n",
        "    return f\"Hello, {name}!\"\n",
        "\n",
        "# Calling the function\n",
        "result = greet(\"Alice\")\n",
        "print(result)  # Output: Hello, Alice!"
      ],
      "metadata": {
        "colab": {
          "base_uri": "https://localhost:8080/"
        },
        "id": "UYc8c6ogTYCq",
        "outputId": "ef772abf-80e1-4b21-9d82-08624f7a7778"
      },
      "execution_count": 7,
      "outputs": [
        {
          "output_type": "stream",
          "name": "stdout",
          "text": [
            "Hello, Alice!\n"
          ]
        }
      ]
    },
    {
      "cell_type": "markdown",
      "source": [
        "2. Function with Default Arguments\n",
        "You can define a function with default argument values. If no argument is passed during the function call, the default value is used."
      ],
      "metadata": {
        "id": "uZEDhg4NTmbG"
      }
    },
    {
      "cell_type": "code",
      "source": [
        "def greet(name=\"Guest\"):\n",
        "    return f\"Hello, {name}!\"\n",
        "\n",
        "# Calling the function without passing an argument\n",
        "print(greet())  # Output: Hello, Guest!\n",
        "\n",
        "# Calling the function with an argument\n",
        "print(greet(\"Alice\"))  # Output: Hello, Alice!\n"
      ],
      "metadata": {
        "colab": {
          "base_uri": "https://localhost:8080/"
        },
        "id": "l7H2nxBITreM",
        "outputId": "15acf4c6-c99b-40eb-b21b-520a4c65e0e3"
      },
      "execution_count": 8,
      "outputs": [
        {
          "output_type": "stream",
          "name": "stdout",
          "text": [
            "Hello, Guest!\n",
            "Hello, Alice!\n"
          ]
        }
      ]
    },
    {
      "cell_type": "markdown",
      "source": [
        "3. Function with Variable-length Arguments (*args)\n",
        "You can define a function that accepts a variable number of positional arguments using *args. This allows the function to accept an arbitrary number of arguments."
      ],
      "metadata": {
        "id": "nHQhrhKHTxij"
      }
    },
    {
      "cell_type": "code",
      "source": [
        "def sum_numbers(*args):\n",
        "    return sum(args)\n",
        "\n",
        "# Calling the function with multiple arguments\n",
        "print(sum_numbers(1, 2, 3))  # Output: 6\n",
        "print(sum_numbers(5, 10, 15, 20))  # Output: 50\n"
      ],
      "metadata": {
        "colab": {
          "base_uri": "https://localhost:8080/"
        },
        "id": "r7A8KDA7TyTd",
        "outputId": "5eff700a-17cc-4a28-b8bc-702fd72183e2"
      },
      "execution_count": 9,
      "outputs": [
        {
          "output_type": "stream",
          "name": "stdout",
          "text": [
            "6\n",
            "50\n"
          ]
        }
      ]
    },
    {
      "cell_type": "markdown",
      "source": [
        "Q4. What is the purpose of the `return` statement in a Python function?\n",
        "\n",
        "- The return statement in Python is used to send a result or output from a function back to the caller. When a function is called, the return statement allows the function to provide a value (or multiple values) that can be used by the code that called the function.\n",
        "\n",
        "Purpose of the return statement:\n",
        "Exit the function: The return statement immediately ends the function's execution and optionally sends a value back to the calling code.\n",
        "Provide a result: It allows the function to produce and return a value that can be used or stored elsewhere in the program.\n",
        "Without a return statement, a function will return None by default, meaning it doesn't provide any meaningful result.\n",
        "\n",
        "Syntax of the return statement:\n",
        " - return [expression]\n",
        "If an expression is provided, its value is returned to the caller.\n",
        "If no expression is provided, None is returned by default.\n"
      ],
      "metadata": {
        "id": "mgTrd4vPT1Ej"
      }
    },
    {
      "cell_type": "code",
      "source": [
        "# Example 1: Basic Use of return to Return a Value\n",
        "def add(a, b):\n",
        "    return a + b\n",
        "\n",
        "result = add(5, 3)\n",
        "print(result)  # Output: 8\n"
      ],
      "metadata": {
        "colab": {
          "base_uri": "https://localhost:8080/"
        },
        "id": "R9kovQ4OUKRi",
        "outputId": "dbf9ff9c-4665-42ef-8fba-c6ee7d469492"
      },
      "execution_count": 10,
      "outputs": [
        {
          "output_type": "stream",
          "name": "stdout",
          "text": [
            "8\n"
          ]
        }
      ]
    },
    {
      "cell_type": "code",
      "source": [
        "#Example 2: Using return to Exit the Function Early\n",
        "def find_first_even(numbers):\n",
        "    for num in numbers:\n",
        "        if num % 2 == 0:\n",
        "            return num  # Returns the first even number found\n",
        "    return None  # If no even number is found\n",
        "\n",
        "numbers = [1, 3, 7, 8, 5]\n",
        "result = find_first_even(numbers)\n",
        "print(result)  # Output: 8\n",
        "\n"
      ],
      "metadata": {
        "colab": {
          "base_uri": "https://localhost:8080/"
        },
        "id": "FdRGKTwlUbEC",
        "outputId": "f0b99407-c427-41b1-a7d8-04f853197758"
      },
      "execution_count": 11,
      "outputs": [
        {
          "output_type": "stream",
          "name": "stdout",
          "text": [
            "8\n"
          ]
        }
      ]
    },
    {
      "cell_type": "markdown",
      "source": [
        "Q5  What are iterators in Python and how do they differ from iterables?\n",
        "- In Python, iterators and iterables are two fundamental concepts related to iteration (looping through sequences). Although they are closely related, they are distinct in their functionality and purpose. Let’s break down both concepts and their differences.\n",
        "\n",
        "1. Iterable:\n",
        "An iterable is any Python object that can return an iterator. In other words, an iterable is an object capable of being looped over (iterated). These objects implement the __iter__() method, which returns an iterator. Examples of iterables include lists, tuples, dictionaries, strings, sets, etc.\n",
        "\n",
        "Key point: An iterable is something that can be used in a for loop, but it does not have the ability to keep track of the current position in the sequence. It simply provides a mechanism for obtaining an iterator.\n",
        "- In this example:\n",
        "\n",
        "my_list is an iterable because you can create an iterator from it using the iter() function.\n",
        "The for loop implicitly calls iter() to get an iterator and then repeatedly calls the next() function to get the next item.\n",
        "2. Iterator:\n",
        "An iterator is an object that represents a stream of data. It keeps track of its state as it iterates over an iterable and provides access to the elements in the sequence one at a time using the __next__() method.\n",
        "\n",
        "Key point: An iterator is a more specific object that maintains its position in the sequence and is responsible for fetching the next item when requested.\n",
        "An iterator must implement two methods:\n",
        "\n",
        "__iter__() — returns the iterator object itself (it returns self).\n",
        "__next__() — returns the next item in the sequence, and raises a StopIteration exception when the sequence is exhausted."
      ],
      "metadata": {
        "id": "lZelubqWUhL5"
      }
    },
    {
      "cell_type": "code",
      "source": [
        "# A list is an iterable\n",
        "my_list = [1, 2, 3]\n",
        "\n",
        "# Getting an iterator from the iterable using iter()\n",
        "iterator = iter(my_list)\n",
        "\n",
        "# Using next() to get each item from the iterator\n",
        "print(next(iterator))  # Output: 1\n",
        "print(next(iterator))  # Output: 2\n",
        "print(next(iterator))  # Output: 3\n",
        "\n",
        "# If we try next() after all items are exhausted, it raises StopIteration\n",
        "# print(next(iterator))  # Uncommenting this will raise StopIteration\n"
      ],
      "metadata": {
        "colab": {
          "base_uri": "https://localhost:8080/"
        },
        "id": "sCGlCr7OVCZc",
        "outputId": "a0f4dd42-1a74-4a12-f2c1-3ed55ffc7cae"
      },
      "execution_count": 12,
      "outputs": [
        {
          "output_type": "stream",
          "name": "stdout",
          "text": [
            "1\n",
            "2\n",
            "3\n"
          ]
        }
      ]
    },
    {
      "cell_type": "markdown",
      "source": [
        "Q6Explain the concept of generators in Python and how they are defined.\n",
        "\n",
        "-  In Python, generators are a special type of iterable that allow you to iterate over a sequence of values without storing the entire sequence in memory. This makes generators memory efficient and particularly useful when working with large data sets or streams of data.\n",
        "\n",
        "Generators allow you to define a function that can yield values one at a time, instead of returning them all at once. They are defined using the yield keyword instead of return.\n",
        "\n",
        "Key Points About Generators:\n",
        "Lazy Evaluation: Generators generate values on the fly, only when needed. This is called lazy evaluation.\n",
        "Stateful Iteration: When a generator is called, it doesn’t execute all its code immediately. Instead, it starts execution and suspends at the yield statement, keeping track of its state (local variables, position in the function, etc.). The next time next() is called on the generator, execution resumes from where it left off.\n",
        "Memory Efficiency: Since they don’t store the entire sequence in memory, generators are much more memory-efficient than regular functions that return lists or other collections.\n",
        "How to Define a Generator\n",
        "A generator is defined like a normal function but uses the yield statement instead of return. When the function executes a yield, it returns the value and suspends execution, preserving the function’s state."
      ],
      "metadata": {
        "id": "rfEwH6-oVD4l"
      }
    },
    {
      "cell_type": "code",
      "source": [
        "def generator_function():\n",
        "    yield value"
      ],
      "metadata": {
        "id": "09tKOmo-VqnO"
      },
      "execution_count": 14,
      "outputs": []
    },
    {
      "cell_type": "code",
      "source": [
        "def square_numbers():  #EG SIMPLE GENERATOR\n",
        "    for i in range(1, 4):\n",
        "        yield i ** 2\n",
        "\n",
        "# Create the generator object\n",
        "gen = square_numbers()\n",
        "\n",
        "# Iterating through the generator using next()\n",
        "print(next(gen))  # Output: 1\n",
        "print(next(gen))  # Output: 4\n",
        "print(next(gen))  # Output: 9\n",
        "\n",
        "# If we call next() again, it will raise StopIteration since the generator is exhausted\n",
        "# print(next(gen))  # Uncommenting this will raise StopIteration\n"
      ],
      "metadata": {
        "colab": {
          "base_uri": "https://localhost:8080/"
        },
        "id": "yofpHsR_Vtrt",
        "outputId": "cf5f7673-cd7d-4676-cfa4-45db9cc14ad1"
      },
      "execution_count": 15,
      "outputs": [
        {
          "output_type": "stream",
          "name": "stdout",
          "text": [
            "1\n",
            "4\n",
            "9\n"
          ]
        }
      ]
    },
    {
      "cell_type": "code",
      "source": [
        "def square_numbers(): #Using a generator in for loop\n",
        "    for i in range(1, 4):\n",
        "        yield i ** 2\n",
        "\n",
        "# Using a for loop to iterate over the generator\n",
        "for num in square_numbers():\n",
        "    print(num)\n"
      ],
      "metadata": {
        "colab": {
          "base_uri": "https://localhost:8080/"
        },
        "id": "tA0bAZxzV34W",
        "outputId": "438b6115-af66-4751-da2e-1baa26a1bd2a"
      },
      "execution_count": 16,
      "outputs": [
        {
          "output_type": "stream",
          "name": "stdout",
          "text": [
            "1\n",
            "4\n",
            "9\n"
          ]
        }
      ]
    },
    {
      "cell_type": "markdown",
      "source": [
        "Q7  What are the advantages of using generators over regular functions?\n",
        "- Using generators over regular functions offers several advantages, especially when dealing with large datasets, infinite sequences, or situations that require memory efficiency. Here are the main advantages of generators compared to regular functions:\n",
        "\n",
        "1. Memory Efficiency\n",
        "One of the biggest advantages of using generators is that they do not store the entire sequence in memory. Instead of creating and returning a full collection (like a list or a tuple), a generator generates values on the fly, yielding one value at a time. This is particularly useful when dealing with large datasets.\n",
        "\n",
        "Example: Comparing a Regular Function and a Generator\n",
        "Regular Function:"
      ],
      "metadata": {
        "id": "nDjPhFPCWIT8"
      }
    },
    {
      "cell_type": "code",
      "source": [
        "def generate_numbers():  #regular function\n",
        "    # Creating a list of numbers from 1 to 1 million\n",
        "    return [i for i in range(1, 1000001)]\n",
        "\n",
        "# This creates a large list in memory\n",
        "numbers = generate_numbers()\n",
        "print(numbers[:5])  # Output: [1, 2, 3, 4, 5]\n"
      ],
      "metadata": {
        "colab": {
          "base_uri": "https://localhost:8080/"
        },
        "id": "2PBIZbpJWbv8",
        "outputId": "b6426261-7745-4e2a-b5b0-484b3a6514f5"
      },
      "execution_count": 18,
      "outputs": [
        {
          "output_type": "stream",
          "name": "stdout",
          "text": [
            "[1, 2, 3, 4, 5]\n"
          ]
        }
      ]
    },
    {
      "cell_type": "code",
      "source": [
        "def generate_numbers():  #generate function\n",
        "    for i in range(1, 1000001):\n",
        "        yield i  # Yielding one number at a time\n",
        "\n",
        "# This generator does not create the full list in memory\n",
        "gen = generate_numbers()\n",
        "print(next(gen))  # Output: 1\n",
        "print(next(gen))  # Output: 2\n"
      ],
      "metadata": {
        "colab": {
          "base_uri": "https://localhost:8080/"
        },
        "id": "z_IHEwB7WjBE",
        "outputId": "6eceefec-e901-465c-b3cd-f539c3d28264"
      },
      "execution_count": 20,
      "outputs": [
        {
          "output_type": "stream",
          "name": "stdout",
          "text": [
            "1\n",
            "2\n"
          ]
        }
      ]
    },
    {
      "cell_type": "markdown",
      "source": [
        "2. Lazy Evaluation\n",
        "Generators implement lazy evaluation, which means that they compute values only when they are needed. Regular functions return values immediately and calculate everything upfront, even if you only need a small part of the result.\n",
        "\n",
        "Example of Lazy Evaluation\n",
        "Consider the case where you need to generate a sequence of numbers, but you only want to process the first few:\n",
        "\n",
        "Generator with Lazy Evaluation:"
      ],
      "metadata": {
        "id": "mp9DF7A9W80m"
      }
    },
    {
      "cell_type": "code",
      "source": [
        "\n",
        "\n",
        "# Create the generator\n",
        "gen = generate_numbers()\n",
        "\n",
        "# Only the first few numbers are computed\n",
        "print(next(gen))  # Output: 1\n",
        "print(next(gen))  # Output: 2\n"
      ],
      "metadata": {
        "colab": {
          "base_uri": "https://localhost:8080/"
        },
        "id": "dlfe7tVcWz7b",
        "outputId": "258da42c-e6d5-4fb4-9ca7-85fa0bdf1c39"
      },
      "execution_count": 22,
      "outputs": [
        {
          "output_type": "stream",
          "name": "stdout",
          "text": [
            "1\n",
            "2\n"
          ]
        }
      ]
    },
    {
      "cell_type": "markdown",
      "source": [
        "Q8.  What is a lambda function in Python and when is it typically used?\n",
        "- A lambda function in Python is a small, anonymous (unnamed) function that can have any number of arguments but can only contain a single expression. It is defined using the lambda keyword rather than the def keyword used for regular functions.\n",
        "- When is a Lambda Function Typically Used?\n",
        "Lambda functions are typically used in the following situations:\n",
        "\n",
        "Short-term or one-off use: When you need a function for a short period and don’t want to define a full function using def.\n",
        "Functional Programming: When working with functions like map(), filter(), or reduce(), lambda functions are commonly used to specify the behavior for processing data.\n",
        "Callbacks: In situations where you need a small function for a callback, such as in event handling or sorting.\n",
        "Sorting: Lambda functions are often used as a key function for sorting lists or other iterable objects."
      ],
      "metadata": {
        "id": "pCXdMIbgW_SK"
      }
    },
    {
      "cell_type": "code",
      "source": [
        "# A lambda function that adds two numbers #basic eg of lambda function\n",
        "add = lambda x, y: x + y\n",
        "\n",
        "# Call the lambda function\n",
        "result = add(5, 3)\n",
        "print(result)  # Output: 8\n"
      ],
      "metadata": {
        "colab": {
          "base_uri": "https://localhost:8080/"
        },
        "id": "2ECNtUtTXZld",
        "outputId": "19772907-8f34-46c3-a44a-f480f447b4c9"
      },
      "execution_count": 24,
      "outputs": [
        {
          "output_type": "stream",
          "name": "stdout",
          "text": [
            "8\n"
          ]
        }
      ]
    },
    {
      "cell_type": "code",
      "source": [
        "numbers = [1, 2, 3, 4, 5]  #numbers = [1, 2, 3, 4, 5]\n",
        "\n",
        "# Use a lambda function to square each number in the list\n",
        "squared_numbers = list(map(lambda x: x ** 2, numbers))\n",
        "\n",
        "print(squared_numbers)  # Output: [1, 4, 9, 16, 25]\n",
        "\n",
        "\n",
        "# Use a lambda function to square each number in the list\n",
        "squared_numbers = list(map(lambda x: x ** 2, numbers))\n",
        "\n",
        "print(squared_numbers)  # Output: [1, 4, 9, 16, 25]\n"
      ],
      "metadata": {
        "id": "QO5gkGEIXm8y"
      },
      "execution_count": null,
      "outputs": []
    },
    {
      "cell_type": "markdown",
      "source": [
        "Q9. Explain the purpose and usage of the `map()` function in Python\n",
        "- Purpose of the map() Function in Python\n",
        "The map() function in Python is a built-in function that allows you to apply a given function to all items in an iterable (such as a list, tuple, etc.) and return a map object (which is an iterator) containing the results.\n",
        "\n",
        "The main purpose of the map() function is to transform each element of the iterable(s) according to the provided function, without needing to use an explicit loop.\n"
      ],
      "metadata": {
        "id": "xyoHsy1wXqKO"
      }
    },
    {
      "cell_type": "code",
      "source": [
        "# A simple function to square a number #basic usage of map\n",
        "def square(x):\n",
        "    return x ** 2\n",
        "\n",
        "# A list of numbers\n",
        "numbers = [1, 2, 3, 4, 5]\n",
        "\n",
        "# Using map() to apply the square function to each element of the list\n",
        "squared_numbers = map(square, numbers)\n",
        "\n",
        "# Converting the result to a list to view it\n",
        "print(list(squared_numbers))  # Output: [1, 4, 9, 16, 25]\n"
      ],
      "metadata": {
        "colab": {
          "base_uri": "https://localhost:8080/"
        },
        "id": "qLOhadY_YNAm",
        "outputId": "d24c4724-2ffd-4440-86eb-371ab9f1dfd7"
      },
      "execution_count": 25,
      "outputs": [
        {
          "output_type": "stream",
          "name": "stdout",
          "text": [
            "[1, 4, 9, 16, 25]\n"
          ]
        }
      ]
    },
    {
      "cell_type": "code",
      "source": [
        "# Using map() with a Lambda Function\n",
        "# Using map() with a lambda function to square each number\n",
        "numbers = [1, 2, 3, 4, 5]\n",
        "squared_numbers = map(lambda x: x ** 2, numbers)\n",
        "\n",
        "# Convert to list and print the result\n",
        "print(list(squared_numbers))  # Output: [1, 4, 9, 16, 25]\n"
      ],
      "metadata": {
        "colab": {
          "base_uri": "https://localhost:8080/"
        },
        "id": "XDpBujerYQ7T",
        "outputId": "d741aa4b-7280-4b2d-fa29-7755d2795555"
      },
      "execution_count": 26,
      "outputs": [
        {
          "output_type": "stream",
          "name": "stdout",
          "text": [
            "[1, 4, 9, 16, 25]\n"
          ]
        }
      ]
    },
    {
      "cell_type": "markdown",
      "source": [
        "Q10. The functions map(), reduce(), and filter() are all built-in Python - - - - functions that allow you to apply a function to elements of an iterable (or multiple iterables). Each of these functions serves a different purpose and operates in a distinct way. Here's a detailed comparison and examples to demonstrate the differences:\n",
        "\n",
        "1. map() Function\n",
        "Purpose: The map() function applies a given function to all items in an iterable (like a list or tuple) and returns a map object (an iterator) containing the results. It is used for transforming data."
      ],
      "metadata": {
        "id": "_wu1jSqaYXpJ"
      }
    },
    {
      "cell_type": "code",
      "source": [
        "# A function to square a number\n",
        "def square(x):\n",
        "    return x ** 2\n",
        "\n",
        "numbers = [1, 2, 3, 4, 5]\n",
        "\n",
        "# Using map() to apply the square function to each element of the list\n",
        "squared_numbers = map(square, numbers)\n",
        "\n",
        "# Convert the map object to a list and print the result\n",
        "print(list(squared_numbers))  # Output: [1, 4, 9, 16, 25]\n"
      ],
      "metadata": {
        "colab": {
          "base_uri": "https://localhost:8080/"
        },
        "id": "ngAPYvIHYu_L",
        "outputId": "791952f7-ee3d-418a-bb4b-ebbdbd48bffa"
      },
      "execution_count": 27,
      "outputs": [
        {
          "output_type": "stream",
          "name": "stdout",
          "text": [
            "[1, 4, 9, 16, 25]\n"
          ]
        }
      ]
    },
    {
      "cell_type": "markdown",
      "source": [
        "2. filter() Function\n",
        "Purpose: The filter() function is used to filter elements from an iterable based on a condition (a function that returns True or False for each element). It filters out elements that don’t satisfy the condition."
      ],
      "metadata": {
        "id": "QRy06AM7ZLx4"
      }
    },
    {
      "cell_type": "code",
      "source": [
        "# A function to check if a number is even\n",
        "def is_even(x):\n",
        "    return x % 2 == 0\n",
        "\n",
        "numbers = [1, 2, 3, 4, 5, 6]\n",
        "\n",
        "# Using filter() to get only the even numbers\n",
        "even_numbers = filter(is_even, numbers)\n",
        "\n",
        "# Convert the filter object to a list and print the result\n",
        "print(list(even_numbers))  # Output: [2, 4, 6]\n"
      ],
      "metadata": {
        "colab": {
          "base_uri": "https://localhost:8080/"
        },
        "id": "JHMQiCR3ZRXm",
        "outputId": "d43fa305-66fa-41e3-9d0f-27e2f5965513"
      },
      "execution_count": 28,
      "outputs": [
        {
          "output_type": "stream",
          "name": "stdout",
          "text": [
            "[2, 4, 6]\n"
          ]
        }
      ]
    },
    {
      "cell_type": "code",
      "source": [
        "# 3. reduce() Function\n",
        "from functools import reduce\n",
        "\n",
        "# A function to multiply two numbers\n",
        "def multiply(x, y):\n",
        "    return x * y\n",
        "\n",
        "numbers = [1, 2, 3, 4, 5]\n",
        "\n",
        "# Using reduce() to multiply all elements of the list\n",
        "result = reduce(multiply, numbers)\n",
        "\n",
        "print(result)  # Output: 120 (1 * 2 * 3 * 4 * 5)\n"
      ],
      "metadata": {
        "colab": {
          "base_uri": "https://localhost:8080/"
        },
        "id": "DXmynsFqZUoE",
        "outputId": "bb8c8487-1013-4e43-d7cb-15536353766c"
      },
      "execution_count": 29,
      "outputs": [
        {
          "output_type": "stream",
          "name": "stdout",
          "text": [
            "120\n"
          ]
        }
      ]
    },
    {
      "cell_type": "markdown",
      "source": [
        "Q11. write the internal mechanism for sum operation using  reduce function on this given\n",
        "list:[47,11,42,13]\n"
      ],
      "metadata": {
        "id": "cxuh6Mz-Zuc-"
      }
    },
    {
      "cell_type": "code",
      "source": [
        "from functools import reduce\n",
        "\n",
        "# The list of numbers\n",
        "numbers = [47, 11, 42, 13]\n",
        "\n",
        "# A function that adds two numbers\n",
        "def add(x, y):\n",
        "    return x + y\n",
        "\n",
        "# Using reduce() to accumulate the sum of the numbers\n",
        "result = reduce(add, numbers)\n",
        "\n",
        "print(result)  # Output: 113\n"
      ],
      "metadata": {
        "colab": {
          "base_uri": "https://localhost:8080/"
        },
        "id": "Hsdb47auZxok",
        "outputId": "f6bae41b-069f-4f94-c820-806b288396a8"
      },
      "execution_count": 30,
      "outputs": [
        {
          "output_type": "stream",
          "name": "stdout",
          "text": [
            "113\n"
          ]
        }
      ]
    },
    {
      "cell_type": "markdown",
      "source": [
        "Internal Mechanism:\n",
        "Let's manually walk through the steps of what happens inside reduce():\n",
        "\n",
        "First Iteration: Apply add(47, 11):\n",
        "Result = 47 + 11 = 58\n",
        "Second Iteration: Apply add(58, 42) (using the result from the previous step):\n",
        "Result = 58 + 42 = 100\n",
        "Third Iteration: Apply add(100, 13) (using the result from the previous step):\n",
        "Result = 100 + 13 = 113\n",
        "The final result of the reduction is 113, which is the sum of all the numbers in the list."
      ],
      "metadata": {
        "id": "DTB-A60EZ8FM"
      }
    },
    {
      "cell_type": "markdown",
      "source": [
        "## Practical Questions:\n"
      ],
      "metadata": {
        "id": "UKTWNuBWaKC9"
      }
    },
    {
      "cell_type": "markdown",
      "source": [
        "Write a Python function that takes a list of numbers as input and returns the sum of all even numbers in\n",
        "the list."
      ],
      "metadata": {
        "id": "9Za1kgDEagIM"
      }
    },
    {
      "cell_type": "code",
      "source": [
        "def sum_of_even_numbers(numbers):\n",
        "    # Using a list comprehension to filter even numbers and sum them\n",
        "    even_numbers = [num for num in numbers if num % 2 == 0]\n",
        "    return sum(even_numbers)\n",
        "\n",
        "# Example usage\n",
        "numbers = [47, 11, 42, 13, 8, 10]\n",
        "result = sum_of_even_numbers(numbers)\n",
        "print(f\"The sum of all even numbers is: {result}\")\n"
      ],
      "metadata": {
        "colab": {
          "base_uri": "https://localhost:8080/"
        },
        "id": "nd669jEDaOC0",
        "outputId": "3b05c5bf-aca9-4053-efcf-b034855a7793"
      },
      "execution_count": 31,
      "outputs": [
        {
          "output_type": "stream",
          "name": "stdout",
          "text": [
            "The sum of all even numbers is: 60\n"
          ]
        }
      ]
    },
    {
      "cell_type": "markdown",
      "source": [
        "Create a Python function that accepts a string and returns the reverse of that string."
      ],
      "metadata": {
        "id": "birKb4M-acEs"
      }
    },
    {
      "cell_type": "code",
      "source": [
        "def reverse_string(s):\n",
        "    # Return the reverse of the string using slicing\n",
        "    return s[::-1]\n",
        "\n",
        "# Example usage\n",
        "input_string = \"hello\"\n",
        "result = reverse_string(input_string)\n",
        "print(f\"The reverse of '{input_string}' is: '{result}'\")\n"
      ],
      "metadata": {
        "colab": {
          "base_uri": "https://localhost:8080/"
        },
        "id": "dx6Zh8cVapYJ",
        "outputId": "b4771b1b-5a9d-42ee-c8d8-86cecb8e302b"
      },
      "execution_count": 32,
      "outputs": [
        {
          "output_type": "stream",
          "name": "stdout",
          "text": [
            "The reverse of 'hello' is: 'olleh'\n"
          ]
        }
      ]
    },
    {
      "cell_type": "markdown",
      "source": [
        " Implement a Python function that takes a list of integers and returns a new list containing the squares of\n",
        "each number."
      ],
      "metadata": {
        "id": "XhcEtmmlaugk"
      }
    },
    {
      "cell_type": "code",
      "source": [
        "def square_numbers(numbers):\n",
        "    # Using a list comprehension to square each number in the list\n",
        "    return [num ** 2 for num in numbers]\n",
        "\n",
        "# Example usage\n",
        "input_list = [1, 2, 3, 4, 5]\n",
        "result = square_numbers(input_list)\n",
        "print(f\"The squares of the numbers are: {result}\")\n"
      ],
      "metadata": {
        "colab": {
          "base_uri": "https://localhost:8080/"
        },
        "id": "3Nbh7QFvavZG",
        "outputId": "2a6fe3ce-a9cc-4b8b-d88b-4d19a91effbb"
      },
      "execution_count": 33,
      "outputs": [
        {
          "output_type": "stream",
          "name": "stdout",
          "text": [
            "The squares of the numbers are: [1, 4, 9, 16, 25]\n"
          ]
        }
      ]
    },
    {
      "cell_type": "markdown",
      "source": [
        " Write a Python function that checks if a given number is prime or not from 1 to 200"
      ],
      "metadata": {
        "id": "u6GWSarsa1eD"
      }
    },
    {
      "cell_type": "code",
      "source": [
        "def is_prime(number):\n",
        "    # Prime numbers are greater than 1\n",
        "    if number <= 1:\n",
        "        return False\n",
        "\n",
        "    # Check divisibility from 2 to the square root of the number\n",
        "    for i in range(2, int(number ** 0.5) + 1):\n",
        "        if number % i == 0:\n",
        "            return False\n",
        "\n",
        "    return True\n",
        "\n",
        "# Example usage to check prime numbers from 1 to 200\n",
        "prime_numbers = [num for num in range(1, 201) if is_prime(num)]\n",
        "print(f\"Prime numbers from 1 to 200 are: {prime_numbers}\")\n"
      ],
      "metadata": {
        "colab": {
          "base_uri": "https://localhost:8080/"
        },
        "id": "TiXuYbFMa2Hl",
        "outputId": "b5c126fd-892c-42d5-b644-72572cc6fbc1"
      },
      "execution_count": 34,
      "outputs": [
        {
          "output_type": "stream",
          "name": "stdout",
          "text": [
            "Prime numbers from 1 to 200 are: [2, 3, 5, 7, 11, 13, 17, 19, 23, 29, 31, 37, 41, 43, 47, 53, 59, 61, 67, 71, 73, 79, 83, 89, 97, 101, 103, 107, 109, 113, 127, 131, 137, 139, 149, 151, 157, 163, 167, 173, 179, 181, 191, 193, 197, 199]\n"
          ]
        }
      ]
    },
    {
      "cell_type": "markdown",
      "source": [
        " Create an iterator class in Python that generates the Fibonacci sequence up to a specified number of\n",
        "terms."
      ],
      "metadata": {
        "id": "FXvIR-Eaa_Y4"
      }
    },
    {
      "cell_type": "code",
      "source": [
        "class FibonacciIterator:\n",
        "    def __init__(self, n):\n",
        "        self.n = n  # Number of terms in the Fibonacci sequence\n",
        "        self.a, self.b = 0, 1  # The first two numbers in the Fibonacci sequence\n",
        "        self.count = 0  # To keep track of how many terms have been generated\n",
        "\n",
        "    def __iter__(self):\n",
        "        return self  # The iterator object itself\n",
        "\n",
        "    def __next__(self):\n",
        "        if self.count < self.n:\n",
        "            fib_number = self.a  # Return the current Fibonacci number\n",
        "            self.a, self.b = self.b, self.a + self.b  # Update the numbers for the next Fibonacci term\n",
        "            self.count += 1\n",
        "            return fib_number\n",
        "        else:\n",
        "            raise StopIteration  # Stop the iteration when the specified number of terms is reached\n",
        "\n",
        "# Example usage\n",
        "n_terms = 10\n",
        "fib_iter = FibonacciIterator(n_terms)\n",
        "\n",
        "# Using the iterator to print the Fibonacci sequence up to the specified number of terms\n",
        "for num in fib_iter:\n",
        "    print(num)\n"
      ],
      "metadata": {
        "colab": {
          "base_uri": "https://localhost:8080/"
        },
        "id": "X5pNL6CtbAF8",
        "outputId": "5adb5fd3-34ff-45d8-8945-53d1b480c7e0"
      },
      "execution_count": 36,
      "outputs": [
        {
          "output_type": "stream",
          "name": "stdout",
          "text": [
            "0\n",
            "1\n",
            "1\n",
            "2\n",
            "3\n",
            "5\n",
            "8\n",
            "13\n",
            "21\n",
            "34\n"
          ]
        }
      ]
    },
    {
      "cell_type": "markdown",
      "source": [
        " Write a generator function in Python that yields the powers of 2 up to a given exponent."
      ],
      "metadata": {
        "id": "Z4aGb-OrbNod"
      }
    },
    {
      "cell_type": "code",
      "source": [
        "def powers_of_2(exponent):\n",
        "    for i in range(exponent + 1):  # Loop from 0 to the given exponent\n",
        "        yield 2 ** i  # Yield the power of 2 for each i\n",
        "\n",
        "# Example usage\n",
        "exponent = 5\n",
        "for power in powers_of_2(exponent):\n",
        "    print(power)\n"
      ],
      "metadata": {
        "colab": {
          "base_uri": "https://localhost:8080/"
        },
        "id": "W8z1ueijbOok",
        "outputId": "c1d96511-b306-47fa-bad1-284a6afc43e2"
      },
      "execution_count": 37,
      "outputs": [
        {
          "output_type": "stream",
          "name": "stdout",
          "text": [
            "1\n",
            "2\n",
            "4\n",
            "8\n",
            "16\n",
            "32\n"
          ]
        }
      ]
    },
    {
      "cell_type": "markdown",
      "source": [
        " Implement a generator function that reads a file line by line and yields each line as a string."
      ],
      "metadata": {
        "id": "SLMuYUbsbVw0"
      }
    },
    {
      "cell_type": "code",
      "source": [
        "def read_file_line_by_line(file_path):\n",
        "    with open(file_path, 'r') as file:\n",
        "        for line in file:\n",
        "            yield line.strip()  # Yield each line, removing leading/trailing whitespace\n",
        "\n",
        "# Example usage\n",
        "file_path = 'example.txt'  # Replace with your file path\n",
        "\n",
        "# Using the generator to read and print lines from the file\n",
        "for line in read_file_line_by_line(file_path):\n",
        "    print(line)\n"
      ],
      "metadata": {
        "colab": {
          "base_uri": "https://localhost:8080/",
          "height": 329
        },
        "id": "awWlLjnIbYdf",
        "outputId": "747ed798-87ad-4df6-be50-e11093ceb061"
      },
      "execution_count": 38,
      "outputs": [
        {
          "output_type": "error",
          "ename": "FileNotFoundError",
          "evalue": "[Errno 2] No such file or directory: 'example.txt'",
          "traceback": [
            "\u001b[0;31m---------------------------------------------------------------------------\u001b[0m",
            "\u001b[0;31mFileNotFoundError\u001b[0m                         Traceback (most recent call last)",
            "\u001b[0;32m<ipython-input-38-65e0603d2aae>\u001b[0m in \u001b[0;36m<cell line: 0>\u001b[0;34m()\u001b[0m\n\u001b[1;32m      8\u001b[0m \u001b[0;34m\u001b[0m\u001b[0m\n\u001b[1;32m      9\u001b[0m \u001b[0;31m# Using the generator to read and print lines from the file\u001b[0m\u001b[0;34m\u001b[0m\u001b[0;34m\u001b[0m\u001b[0m\n\u001b[0;32m---> 10\u001b[0;31m \u001b[0;32mfor\u001b[0m \u001b[0mline\u001b[0m \u001b[0;32min\u001b[0m \u001b[0mread_file_line_by_line\u001b[0m\u001b[0;34m(\u001b[0m\u001b[0mfile_path\u001b[0m\u001b[0;34m)\u001b[0m\u001b[0;34m:\u001b[0m\u001b[0;34m\u001b[0m\u001b[0;34m\u001b[0m\u001b[0m\n\u001b[0m\u001b[1;32m     11\u001b[0m     \u001b[0mprint\u001b[0m\u001b[0;34m(\u001b[0m\u001b[0mline\u001b[0m\u001b[0;34m)\u001b[0m\u001b[0;34m\u001b[0m\u001b[0;34m\u001b[0m\u001b[0m\n",
            "\u001b[0;32m<ipython-input-38-65e0603d2aae>\u001b[0m in \u001b[0;36mread_file_line_by_line\u001b[0;34m(file_path)\u001b[0m\n\u001b[1;32m      1\u001b[0m \u001b[0;32mdef\u001b[0m \u001b[0mread_file_line_by_line\u001b[0m\u001b[0;34m(\u001b[0m\u001b[0mfile_path\u001b[0m\u001b[0;34m)\u001b[0m\u001b[0;34m:\u001b[0m\u001b[0;34m\u001b[0m\u001b[0;34m\u001b[0m\u001b[0m\n\u001b[0;32m----> 2\u001b[0;31m     \u001b[0;32mwith\u001b[0m \u001b[0mopen\u001b[0m\u001b[0;34m(\u001b[0m\u001b[0mfile_path\u001b[0m\u001b[0;34m,\u001b[0m \u001b[0;34m'r'\u001b[0m\u001b[0;34m)\u001b[0m \u001b[0;32mas\u001b[0m \u001b[0mfile\u001b[0m\u001b[0;34m:\u001b[0m\u001b[0;34m\u001b[0m\u001b[0;34m\u001b[0m\u001b[0m\n\u001b[0m\u001b[1;32m      3\u001b[0m         \u001b[0;32mfor\u001b[0m \u001b[0mline\u001b[0m \u001b[0;32min\u001b[0m \u001b[0mfile\u001b[0m\u001b[0;34m:\u001b[0m\u001b[0;34m\u001b[0m\u001b[0;34m\u001b[0m\u001b[0m\n\u001b[1;32m      4\u001b[0m             \u001b[0;32myield\u001b[0m \u001b[0mline\u001b[0m\u001b[0;34m.\u001b[0m\u001b[0mstrip\u001b[0m\u001b[0;34m(\u001b[0m\u001b[0;34m)\u001b[0m  \u001b[0;31m# Yield each line, removing leading/trailing whitespace\u001b[0m\u001b[0;34m\u001b[0m\u001b[0;34m\u001b[0m\u001b[0m\n\u001b[1;32m      5\u001b[0m \u001b[0;34m\u001b[0m\u001b[0m\n",
            "\u001b[0;31mFileNotFoundError\u001b[0m: [Errno 2] No such file or directory: 'example.txt'"
          ]
        }
      ]
    },
    {
      "cell_type": "markdown",
      "source": [
        "Use a lambda function in Python to sort a list of tuples based on the second element of each tuple."
      ],
      "metadata": {
        "id": "uG4hztZpcLte"
      }
    },
    {
      "cell_type": "code",
      "source": [
        "# List of tuples\n",
        "tuples_list = [(1, 3), (4, 1), (2, 2), (5, 4)]\n",
        "\n",
        "# Sort the list of tuples based on the second element of each tuple\n",
        "sorted_list = sorted(tuples_list, key=lambda x: x[1])\n",
        "\n",
        "# Print the sorted list\n",
        "print(sorted_list)\n"
      ],
      "metadata": {
        "colab": {
          "base_uri": "https://localhost:8080/"
        },
        "id": "KoSBITyUcMlG",
        "outputId": "f3bf282f-b503-4ded-a61c-71cb8e56cef1"
      },
      "execution_count": 39,
      "outputs": [
        {
          "output_type": "stream",
          "name": "stdout",
          "text": [
            "[(4, 1), (2, 2), (1, 3), (5, 4)]\n"
          ]
        }
      ]
    },
    {
      "cell_type": "markdown",
      "source": [
        "Write a Python program that uses `map()` to convert a list of temperatures from Celsius to Fahrenheit"
      ],
      "metadata": {
        "id": "E-2YdTFOcPjf"
      }
    },
    {
      "cell_type": "code",
      "source": [
        "# List of temperatures in Celsius\n",
        "celsius_temps = [0, 20, 25, 30, 35]\n",
        "\n",
        "# Function to convert Celsius to Fahrenheit\n",
        "def celsius_to_fahrenheit(celsius):\n",
        "    return (celsius * 9/5) + 32\n",
        "\n",
        "# Use map() to apply the conversion function to each element in the list\n",
        "fahrenheit_temps = list(map(celsius_to_fahrenheit, celsius_temps))\n",
        "\n",
        "# Print the resulting list of temperatures in Fahrenheit\n",
        "print(fahrenheit_temps)\n"
      ],
      "metadata": {
        "colab": {
          "base_uri": "https://localhost:8080/"
        },
        "id": "-UuFSzclcTFd",
        "outputId": "49dad1ef-13d2-45ea-a78e-363d598ad97f"
      },
      "execution_count": 40,
      "outputs": [
        {
          "output_type": "stream",
          "name": "stdout",
          "text": [
            "[32.0, 68.0, 77.0, 86.0, 95.0]\n"
          ]
        }
      ]
    },
    {
      "cell_type": "markdown",
      "source": [
        "Create a Python program that uses `filter()` to remove all the vowels from a given string."
      ],
      "metadata": {
        "id": "pAnonRrYcXI9"
      }
    },
    {
      "cell_type": "code",
      "source": [
        "# Function to check if a character is a vowel\n",
        "def is_not_vowel(char):\n",
        "    vowels = \"aeiouAEIOU\"  # Define vowels in both lowercase and uppercase\n",
        "    return char not in vowels  # Return True if the character is not a vowel\n",
        "\n",
        "# Input string\n",
        "input_string = \"Hello, World!\"\n",
        "\n",
        "# Use filter() to filter out vowels from the string\n",
        "filtered_string = ''.join(filter(is_not_vowel, input_string))\n",
        "\n",
        "# Print the result\n",
        "print(f\"String after removing vowels: {filtered_string}\")\n"
      ],
      "metadata": {
        "colab": {
          "base_uri": "https://localhost:8080/"
        },
        "id": "TJ5t3_eDccJM",
        "outputId": "f8970344-2ad0-4a0e-ca7d-6cb779e7de6e"
      },
      "execution_count": 41,
      "outputs": [
        {
          "output_type": "stream",
          "name": "stdout",
          "text": [
            "String after removing vowels: Hll, Wrld!\n"
          ]
        }
      ]
    },
    {
      "cell_type": "markdown",
      "source": [
        "Write a Python program, which returns a list with 2-tuples. Each tuple consists of the order number and the\n",
        "product of the price per item and the quantity. The product should be increased by 10,- € if the value of the\n",
        "order is smaller than 100,00 €.\n",
        "\n",
        "Write a Python program using lambda and map."
      ],
      "metadata": {
        "id": "sowvhJKUc3QU"
      }
    },
    {
      "cell_type": "code",
      "source": [
        "# Sample orders: [Order number, Price per item, Quantity]\n",
        "orders = [\n",
        "    [1, 12.5, 5],   # Order 1: Price 12.5, Quantity 5\n",
        "    [2, 30.0, 3],   # Order 2: Price 30.0, Quantity 3\n",
        "    [3, 8.0, 12],   # Order 3: Price 8.0, Quantity 12\n",
        "    [4, 50.0, 1],   # Order 4: Price 50.0, Quantity 1\n",
        "    [5, 7.0, 15]    # Order 5: Price 7.0, Quantity 15\n",
        "]\n",
        "\n",
        "# Use map() to calculate the product and apply the conditional increase\n",
        "order_values = list(map(lambda order: (order[0], (order[1] * order[2]) + 10 if order[1] * order[2] < 100 else order[1] * order[2]), orders))\n",
        "\n",
        "# Print the resulting list of 2-tuples\n",
        "print(order_values)\n"
      ],
      "metadata": {
        "colab": {
          "base_uri": "https://localhost:8080/"
        },
        "id": "y_Oz5Bsec30-",
        "outputId": "82927973-2624-4f21-b1ff-1fc34b7cec48"
      },
      "execution_count": 42,
      "outputs": [
        {
          "output_type": "stream",
          "name": "stdout",
          "text": [
            "[(1, 72.5), (2, 100.0), (3, 106.0), (4, 60.0), (5, 105.0)]\n"
          ]
        }
      ]
    }
  ]
}